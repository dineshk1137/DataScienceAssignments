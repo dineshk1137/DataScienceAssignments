{
 "cells": [
  {
   "cell_type": "code",
   "execution_count": 2,
   "metadata": {},
   "outputs": [
    {
     "data": {
      "text/plain": [
       "200"
      ]
     },
     "execution_count": 2,
     "metadata": {},
     "output_type": "execute_result"
    }
   ],
   "source": [
    "'''Q1, Create a vehicle class with an init method having instance variables as name_of_vehicle, max_speed\n",
    "and average_of_vehicle.'''\n",
    "\n",
    "'''Answer::'''\n",
    "class vehicle:\n",
    "    def __init__(self, name_of_vehicle, max_speed, average_of_vehicle):\n",
    "        self.name_of_vehicle = name_of_vehicle\n",
    "        self.max_speed = max_speed\n",
    "        self.average_of_vehicle = average_of_vehicle\n",
    "        \n",
    "\n",
    "car= vehicle('car', 200, 18)\n"
   ]
  },
  {
   "cell_type": "code",
   "execution_count": 7,
   "metadata": {},
   "outputs": [
    {
     "name": "stdout",
     "output_type": "stream",
     "text": [
      "sedan --seating Capacity:5\n"
     ]
    }
   ],
   "source": [
    "'''Q2. Create a child class car from the vehicle class created in Que 1, which will inherit the vehicle class.\n",
    "Create a method named seating_capacity which takes capacity as an argument and returns the name of\n",
    "the vehicle and its seating capacity.'''\n",
    "\n",
    "'''Answer::'''\n",
    "\n",
    "class vehicle:\n",
    "    def __init__(self, name_of_vehicle, max_speed, average_of_vehicle):\n",
    "        self.name_of_vehicle = name_of_vehicle\n",
    "        self.max_speed = max_speed\n",
    "        self.average_of_vehicle = average_of_vehicle\n",
    "\n",
    "class car(vehicle):\n",
    "    def __init__(self, name_of_vehicle, max_speed, average_of_vehicle):\n",
    "        super().__init__( name_of_vehicle, max_speed, average_of_vehicle)\n",
    "        \n",
    "    def seating_capacity(self, capacity):\n",
    "        return f'{self.name_of_vehicle} --seating Capacity:{capacity}'\n",
    "    \n",
    "car1= car('sedan',180, 35)\n",
    "cap_info = car1.seating_capacity(5)\n",
    "\n",
    "print(cap_info)\n",
    "\n"
   ]
  },
  {
   "cell_type": "code",
   "execution_count": 23,
   "metadata": {},
   "outputs": [
    {
     "data": {
      "text/plain": [
       "<__main__.car at 0x2daccd869d0>"
      ]
     },
     "execution_count": 23,
     "metadata": {},
     "output_type": "execute_result"
    }
   ],
   "source": [
    "'''Q3. What is multiple inheritance? Write a python code to demonstrate multiple inheritance.'''\n",
    "\n",
    "\"\"\"Answer::  Multiple inheritance is a feature in object-oriented programming languages where a class can inherit attributes and methods from more than one parent class. In other words, a class can inherit properties and behaviors from multiple base classes. This allows for the creation of complex class hierarchies and the reusability of code.\"\"\"\n",
    "\n",
    "#Here's an example in Python that demonstrates multiple inheritance:\n",
    "\n",
    "class vehicle:\n",
    "    def __init__(self, name, max_speed):\n",
    "        self.name = name\n",
    "        self.max_speed = max_speed\n",
    "        \n",
    "    def show_info(self):\n",
    "        return f\"{self.name} - Max Speed: {self.max_speed} km/h\"\n",
    "    \n",
    "class Engine:\n",
    "    def __init__(self, fuel_type):\n",
    "        self.fuel_type = fuel_type\n",
    "\n",
    "    def fuel_info(self):\n",
    "        return f\"Fuel Type: {self.fuel_type}\"\n",
    "    \n",
    "class car(vehicle, Engine):\n",
    "    def __init__(self, name, max_speed, fuel_type, seating_capacity):\n",
    "        vehicle.__init__(self, name, max_speed)\n",
    "        Engine.__init__(self, fuel_type)\n",
    "        self.seating_capacity = seating_capacity\n",
    "    \n",
    "car11 = car('sedan', 180, 'petrol', 5)\n",
    "    \n",
    "car11"
   ]
  },
  {
   "cell_type": "code",
   "execution_count": 24,
   "metadata": {},
   "outputs": [
    {
     "name": "stdout",
     "output_type": "stream",
     "text": [
      "Initial name: Alice\n",
      "Updated name: Bob\n",
      "Initial age: 20\n",
      "Updated age: 25\n",
      "Name should be a string.\n",
      "Age should be a non-negative integer.\n"
     ]
    }
   ],
   "source": [
    "'''Q4. What are getter and setter in python? Create a class and create a getter and a setter method in this\n",
    "class.'''\n",
    "\n",
    "'''ANSWER::   In Python, getters and setters are methods used to access and modify the attributes (fields) of a class. They provide a way to control access to the attributes and perform any necessary validation or actions when getting or setting their values.\n",
    "\n",
    "Getter Method: A getter method is used to retrieve the value of an attribute. It ensures controlled access to the attribute's value.\n",
    "\n",
    "Setter Method: A setter method is used to modify the value of an attribute. It allows controlled modification of the attribute's value, often including validation or additional processing.\n",
    "\n",
    "'''\n",
    "\n",
    "class Student:\n",
    "    def __init__(self, name, age):\n",
    "        self._name = name  # Prefixing with an underscore indicates a protected attribute\n",
    "        self._age = age\n",
    "\n",
    "    # Getter method for name attribute\n",
    "    def get_name(self):\n",
    "        return self._name\n",
    "\n",
    "    # Setter method for name attribute\n",
    "    def set_name(self, new_name):\n",
    "        if isinstance(new_name, str):\n",
    "            self._name = new_name\n",
    "        else:\n",
    "            print(\"Name should be a string.\")\n",
    "\n",
    "    # Getter method for age attribute\n",
    "    def get_age(self):\n",
    "        return self._age\n",
    "\n",
    "    # Setter method for age attribute\n",
    "    def set_age(self, new_age):\n",
    "        if isinstance(new_age, int) and new_age >= 0:\n",
    "            self._age = new_age\n",
    "        else:\n",
    "            print(\"Age should be a non-negative integer.\")\n",
    "\n",
    "# Creating an instance of the Student class\n",
    "student = Student(\"Alice\", 20)\n",
    "\n",
    "# Using getter and setter methods\n",
    "print(f\"Initial name: {student.get_name()}\")\n",
    "student.set_name(\"Bob\")\n",
    "print(f\"Updated name: {student.get_name()}\")\n",
    "\n",
    "print(f\"Initial age: {student.get_age()}\")\n",
    "student.set_age(25)\n",
    "print(f\"Updated age: {student.get_age()}\")\n",
    "\n",
    "# Trying to set invalid values\n",
    "student.set_name(123)\n",
    "student.set_age(-5)\n",
    "\n",
    "\n"
   ]
  },
  {
   "cell_type": "code",
   "execution_count": 25,
   "metadata": {},
   "outputs": [
    {
     "name": "stdout",
     "output_type": "stream",
     "text": [
      "Dog barks\n",
      "Cat meows\n"
     ]
    }
   ],
   "source": [
    "'''Q5.What is method overriding in python? Write a python code to demonstrate method overriding.'''\n",
    "\n",
    "'''ANSWER::  Method overriding in Python is a concept where a subclass provides a specific implementation for a method that is already defined in its parent class.\n",
    "When a method is overridden in the subclass, the new implementation in the subclass takes precedence over the implementation in the parent class.\n",
    "\n",
    "'''\n",
    "\n",
    "class Animal:\n",
    "    def speak(self):\n",
    "        print(\"Animal speaks\")\n",
    "\n",
    "class Dog(Animal):\n",
    "    def speak(self):\n",
    "        print(\"Dog barks\")\n",
    "\n",
    "class Cat(Animal):\n",
    "    def speak(self):\n",
    "        print(\"Cat meows\")\n",
    "\n",
    "# Creating instances of the subclasses\n",
    "dog = Dog()\n",
    "cat = Cat()\n",
    "\n",
    "# Calling the overridden methods\n",
    "dog.speak()  # Output: \"Dog barks\"\n",
    "cat.speak()  # Output: \"Cat meows\"\n",
    "\n"
   ]
  },
  {
   "cell_type": "code",
   "execution_count": null,
   "metadata": {},
   "outputs": [],
   "source": []
  }
 ],
 "metadata": {
  "kernelspec": {
   "display_name": "Python 3",
   "language": "python",
   "name": "python3"
  },
  "language_info": {
   "codemirror_mode": {
    "name": "ipython",
    "version": 3
   },
   "file_extension": ".py",
   "mimetype": "text/x-python",
   "name": "python",
   "nbconvert_exporter": "python",
   "pygments_lexer": "ipython3",
   "version": "3.11.2"
  },
  "orig_nbformat": 4
 },
 "nbformat": 4,
 "nbformat_minor": 2
}
