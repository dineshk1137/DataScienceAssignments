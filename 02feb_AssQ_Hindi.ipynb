{
 "cells": [
  {
   "cell_type": "code",
   "execution_count": null,
   "id": "94f4eaaa-85eb-4159-b428-f5d953caeebf",
   "metadata": {},
   "outputs": [],
   "source": [
    "#When the number of iterations is already known, the for loop is used. E.G. ==>\n",
    "inputList = [10, 20, 30, 40, 50]\n",
    "for element in inputList:\n",
    "   # printing each element of the list\n",
    "   print(element)\n",
    "    \n",
    "#When the number of iterations is unknown, a \"while\" loop is used. The statement is repeated until the boolean value is false.\n",
    "i = 1\n",
    "# Iterate until the given condition is true\n",
    "while i < 10:\n",
    "   # printing the current value of the above variable\n",
    "   print(i)\n",
    "   # incrementing the value of i value by 1\n",
    "   i += 1"
   ]
  },
  {
   "cell_type": "code",
   "execution_count": null,
   "id": "7819a743-2518-4000-808f-f86bed2f8f9f",
   "metadata": {},
   "outputs": [],
   "source": [
    "#using while loop\n",
    "num = 10 \n",
    "sum = 0\n",
    "# use while loop to iterate until zero\n",
    "while(num > 0):\n",
    "    sum += num\n",
    "    num -= 1\n",
    "print(\"The result is\", sum)\n",
    "\n",
    "\n",
    "#using for loop\n",
    "sum = 0 \n",
    "for i in range(1, 11): \n",
    "  sum += i\n",
    "print(sum)"
   ]
  },
  {
   "cell_type": "code",
   "execution_count": null,
   "id": "25ffd7cb-dd4e-47e9-9a61-dbb7445e1f59",
   "metadata": {},
   "outputs": [],
   "source": [
    "unit = int(input(\"enter units\"))\n",
    "\n",
    "if(unit<=100):\n",
    "    cost= unit*4.5\n",
    "elif(unit>100 and unit <=200):\n",
    "    cost = 450+ (unit-100)*6\n",
    "elif(unit>200 and unit<=300):\n",
    "    cost = 450+600+ (unit-200)*10\n",
    "else:\n",
    "    cost = 450+600+1000+ (unit-300)*20\n",
    "print(cost)"
   ]
  },
  {
   "cell_type": "code",
   "execution_count": null,
   "id": "9b2c048e-24cc-49a0-bf80-1655e63ce3c3",
   "metadata": {},
   "outputs": [],
   "source": [
    "list1 = []\n",
    "for i in range(1, 101):\n",
    "    list1.append(i*i*i)\n",
    "\n",
    "print(list1)\n",
    "res = []\n",
    "for i in list1:\n",
    "    if(i%4==0 or i%5==0):\n",
    "        res.append(i)\n",
    "print(res)"
   ]
  },
  {
   "cell_type": "code",
   "execution_count": null,
   "id": "cc80bd38-010e-4ee0-b80f-cd43ce629488",
   "metadata": {},
   "outputs": [],
   "source": [
    "string = \"I want to become a data scientist\"\n",
    "vowels=0\n",
    "for i in string:\n",
    "      if(i=='a' or i=='e' or i=='i' or i=='o' or i=='u' or i=='A' or i=='E' or i=='I' or i=='O' or i=='U'):\n",
    "            vowels=vowels+1\n",
    "print(\"Number of vowels are:\")\n",
    "print(vowels)"
   ]
  }
 ],
 "metadata": {
  "kernelspec": {
   "display_name": "Python 3 (ipykernel)",
   "language": "python",
   "name": "python3"
  },
  "language_info": {
   "codemirror_mode": {
    "name": "ipython",
    "version": 3
   },
   "file_extension": ".py",
   "mimetype": "text/x-python",
   "name": "python",
   "nbconvert_exporter": "python",
   "pygments_lexer": "ipython3",
   "version": "3.10.8"
  }
 },
 "nbformat": 4,
 "nbformat_minor": 5
}
