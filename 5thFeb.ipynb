{
 "cells": [
  {
   "cell_type": "code",
   "execution_count": 1,
   "metadata": {
    "collapsed": false
   },
   "outputs": [],
   "source": [
    "# QUESTION 1️: Explain Class and Object with respect to Object-Oriented Programming. Give a suitable example."
   ]
  },
  {
   "cell_type": "code",
   "execution_count": 2,
   "metadata": {
    "ExecuteTime": {
     "end_time": "2023-04-24T01:02:23.464415Z",
     "start_time": "2023-04-24T01:02:23.448790Z"
    },
    "collapsed": true
   },
   "outputs": [
    {
     "name": "stdout",
     "output_type": "stream",
     "text": [
      "Hi, my name is Dinesh :) and I am 21 years old.\n",
      "\n",
      "Hi, my name is Chandra :) and I am 21 years old.\n",
      "\n"
     ]
    }
   ],
   "source": [
    "''' Ans. In Python, classes and objects are the fundamental building blocks of Object-Oriented Programming (OOP). \n",
    "A class is a blueprint or template for creating objects, which are instances of the class. \n",
    "An object is a specific instance of a class that can have its own unique state and behavior.\n",
    "\n",
    "To create a class in Python, we use the class keyword followed by the name of the class. \n",
    "The class definition can contain variables, methods, and other attributes that define the behavior and properties of the objects that will be created from it.\n",
    "\n",
    "Below is an example of a class named Person: '''\n",
    "\n",
    "class Person:\n",
    "    def __init__(self, name, age):\n",
    "        self.name = name\n",
    "        self.age = age\n",
    "\n",
    "    def SayHello(self):\n",
    "        print(\"Hi, my name is \" + self.name + \" :) and I am \" + str(self.age) + \" years old.\")\n",
    "        print()\n",
    "\n",
    "''' In this example, the Person class has two attributes name and age, and one method SayHello() that prints a greeting message.\n",
    "We need to convert the variable self.age into string because age is a number and we can only concatenate string to string, not int to string.\n",
    "\n",
    "\n",
    "> Now, to create an object from the Person class, we use the class name followed by parentheses to call its constructor method (__init__()): '''\n",
    "\n",
    "person1 = Person(\"Dinesh\", 21)\n",
    "person2 = Person(\"Chandra\", 21)\n",
    "\n",
    "'''In this example, person1 and person2 are two different objects created from the Person class, each with their own unique name and age attributes.\n",
    "\n",
    "\n",
    "> Now, to call a method on an object, we use dot notation and call the method like this: '''\n",
    "\n",
    "person1.SayHello()\n",
    "person2.SayHello()"
   ]
  },
  {
   "cell_type": "code",
   "execution_count": 3,
   "metadata": {
    "collapsed": false
   },
   "outputs": [],
   "source": [
    "# QUESTION 2️: Name the four pillars of OOPs."
   ]
  },
  {
   "cell_type": "code",
   "execution_count": 4,
   "metadata": {
    "ExecuteTime": {
     "end_time": "2023-04-24T01:02:23.573788Z",
     "start_time": "2023-04-24T01:02:23.480037Z"
    },
    "collapsed": false
   },
   "outputs": [
    {
     "data": {
      "text/plain": [
       "' 1. Encapsulation: Encapsulation is the practice of hiding internal details of an object and only exposing a public interface. \\nThis helps to prevent accidental modification of internal data and ensures that objects are used correctly by external code.\\n\\n2. Inheritance: Inheritance is the process by which a new class is created from an existing class, inheriting all the attributes and methods of the parent class. \\nThis allows for code reuse and allows for more specific classes to be created from more general ones.\\n\\n3. Polymorphism: Polymorphism is the ability of objects to take on many forms or have multiple behaviors. \\nIn OOPs, polymorphism is often achieved through method overriding and method overloading.\\n\\n4. Abstraction: Abstraction is the practice of focusing on essential features of an object and ignoring its non-essential or implementation details. \\nIt allows for complex systems to be modeled in a simpler way and makes code easier to understand and maintain. '"
      ]
     },
     "execution_count": 4,
     "metadata": {},
     "output_type": "execute_result"
    }
   ],
   "source": [
    "''' Ans. The four pillars of Object Oriented Programming (OOPs) are: '''\n",
    "\n",
    "''' 1. Encapsulation: Encapsulation is the practice of hiding internal details of an object and only exposing a public interface. \n",
    "This helps to prevent accidental modification of internal data and ensures that objects are used correctly by external code.\n",
    "\n",
    "2. Inheritance: Inheritance is the process by which a new class is created from an existing class, inheriting all the attributes and methods of the parent class. \n",
    "This allows for code reuse and allows for more specific classes to be created from more general ones.\n",
    "\n",
    "3. Polymorphism: Polymorphism is the ability of objects to take on many forms or have multiple behaviors. \n",
    "In OOPs, polymorphism is often achieved through method overriding and method overloading.\n",
    "\n",
    "4. Abstraction: Abstraction is the practice of focusing on essential features of an object and ignoring its non-essential or implementation details. \n",
    "It allows for complex systems to be modeled in a simpler way and makes code easier to understand and maintain. '''"
   ]
  },
  {
   "cell_type": "code",
   "execution_count": 5,
   "metadata": {
    "collapsed": false
   },
   "outputs": [],
   "source": [
    "# QUESTION 3️: Explain why the `__init__()` function is used. Give a suitable example."
   ]
  },
  {
   "cell_type": "code",
   "execution_count": 6,
   "metadata": {
    "ExecuteTime": {
     "end_time": "2023-04-24T01:02:23.573788Z",
     "start_time": "2023-04-24T01:02:23.511290Z"
    },
    "collapsed": false
   },
   "outputs": [
    {
     "name": "stdout",
     "output_type": "stream",
     "text": [
      "Your Account Balance is : 1000  Rs.\n",
      "\n",
      "You have successfully Deposited the amount : 5000  Rs.  | Your available Balance is : 6000  Rs.\n",
      "\n",
      "You have successfully Withdrawn the amount : 1500  Rs.  | Your remaining Balance is : 4500  Rs.\n"
     ]
    }
   ],
   "source": [
    "''' Ans. In Python, the __init__() function is a special method that is called when an object is created from a class. \n",
    "It is used to initialize the attributes of the object with the values passed to it as arguments. \n",
    "The self parameter in the __init__() method refers to the object being created, and is used to set the object's attributes.\n",
    "\n",
    "Below is the example of a class that uses the __init__() function: '''\n",
    "\n",
    "class bank_account :\n",
    "\n",
    "    def __init__(self, balance):            # Private function\n",
    "        self.__balance = balance            # we have used double underscore here in variable \"self.__balance\" , that's why function is private and hidden from the user.\n",
    "    \n",
    "    def deposit(self, deposit_amount):      # Public function\n",
    "        self.__balance = self.__balance + deposit_amount\n",
    "        print(\"You have successfully Deposited the amount :\", deposit_amount, \" Rs.  | Your available Balance is :\", self.__balance, \" Rs.\")\n",
    "        print()\n",
    "\n",
    "    def withdraw(self, withdraw_amount):    # Public function\n",
    "        if self.__balance >= withdraw_amount :\n",
    "            self.__balance = self.__balance - withdraw_amount\n",
    "            print(\"You have successfully Withdrawn the amount :\", withdraw_amount, \" Rs.  | Your remaining Balance is :\", self.__balance, \" Rs.\")\n",
    "        else :\n",
    "            return \"Oops! You have not enough amount to withdraw. Try again !!!\"\n",
    "    \n",
    "    def get_balance(self):                  # Public function\n",
    "        print(\"Your Account Balance is :\", self.__balance, \" Rs.\")\n",
    "        print()\n",
    "\n",
    "\n",
    "# Creating object of the class name 'bank_account' :\n",
    "puru = bank_account(1000)\n",
    "\n",
    "\n",
    "# Calling methods :\n",
    "puru.get_balance()\n",
    "puru.deposit(5000)\n",
    "puru.withdraw(1500)"
   ]
  },
  {
   "cell_type": "code",
   "execution_count": 7,
   "metadata": {
    "collapsed": false
   },
   "outputs": [],
   "source": [
    "# QUESTION 4️  : Why self is used in OOPs?"
   ]
  },
  {
   "cell_type": "code",
   "execution_count": 8,
   "metadata": {
    "ExecuteTime": {
     "end_time": "2023-04-24T01:02:23.761292Z",
     "start_time": "2023-04-24T01:02:23.558166Z"
    },
    "collapsed": false
   },
   "outputs": [
    {
     "data": {
      "text/plain": [
       "'In object-oriented programming (OOP), self is a special parameter that is used to refer to the current instance of a class. \\nIt is used to access the attributes and methods of an object within the class, as well as to create new attributes and methods for that object.\\n\\nIn Python, when a method is called on an instance of a class, the instance is automatically passed to the method as the first argument. \\nThis is why all instance methods in Python take self as their first parameter.\\n\\nIn summary, self is used in OOP to refer to the current instance of a class and access its attributes and methods. \\nIt allows for multiple instances of a class to have their own values for the same attributes and methods, and enables the creation of more flexible and powerful object-oriented programs. '"
      ]
     },
     "execution_count": 8,
     "metadata": {},
     "output_type": "execute_result"
    }
   ],
   "source": [
    "'''In object-oriented programming (OOP), self is a special parameter that is used to refer to the current instance of a class. \n",
    "It is used to access the attributes and methods of an object within the class, as well as to create new attributes and methods for that object.\n",
    "\n",
    "In Python, when a method is called on an instance of a class, the instance is automatically passed to the method as the first argument. \n",
    "This is why all instance methods in Python take self as their first parameter.\n",
    "\n",
    "In summary, self is used in OOP to refer to the current instance of a class and access its attributes and methods. \n",
    "It allows for multiple instances of a class to have their own values for the same attributes and methods, and enables the creation of more flexible and powerful object-oriented programs. '''\n"
   ]
  },
  {
   "cell_type": "code",
   "execution_count": 9,
   "metadata": {
    "collapsed": false
   },
   "outputs": [],
   "source": [
    "# QUESTION 5️: What is inheritance? Give an example for each type of inheritance."
   ]
  },
  {
   "cell_type": "code",
   "execution_count": 10,
   "metadata": {
    "ExecuteTime": {
     "end_time": "2023-04-24T01:02:23.792537Z",
     "start_time": "2023-04-24T01:02:23.620669Z"
    },
    "collapsed": false
   },
   "outputs": [
    {
     "name": "stdout",
     "output_type": "stream",
     "text": [
      "1. This is an example of Single Inheritance. \n",
      "(Please check cell comment '# Single Inheritance' for the code)\n",
      "\n",
      "2. This is an example of Multiple Inheritance \n",
      "(Please check cell comment '# Multiple Inheritance' for the code) \n",
      "--> This is class 1\n",
      "--> This is class 2\n",
      "\n",
      "3. This is an example of Multilevel Inheritance \n",
      "(Please check cell comment '# Multilevel Inheritance' for the code) \n",
      "--> This is a method from class 1\n",
      "--> This is a method from class 2\n",
      "\n",
      "4. This is an example of Hierarchical Inheritance \n",
      "(Please check cell comment '# Hierarchical Inheritance' for the code)\n",
      "--> This is a method from class 2\n",
      "\n",
      "4. This is an example of Hierarchical Inheritance \n",
      "(Please check cell comment '# Hierarchical Inheritance' for the code)\n",
      "--> This is a method from class 3\n",
      "\n",
      "5. This is an example of Hybrid Inheritance \n",
      "(Please check cell comment '# Hybrid Inheritance' for the code)\n",
      "--> This is a method from class 2\n",
      "--> This is a method from class 3\n",
      "--> This is a method from class 4\n"
     ]
    }
   ],
   "source": [
    "'''Inheritance is a fundamental concept in object-oriented programming (OOPs) that allows for the creation of new classes based on existing classes.\n",
    "Inheritance allows the new class to inherit all the attributes and methods of the existing class, and then add its own unique attributes and methods.\n",
    "\n",
    "> There are five types of inheritance :\n",
    "\n",
    "1. Single Inheritance: In this type of inheritance, a class inherits properties and methods from a single parent class.\n",
    "\n",
    "2. Multiple Inheritance: In this type of inheritance, a class inherits properties and methods from multiple parent classes.\n",
    "\n",
    "3. Multilevel Inheritance: In this type of inheritance, a class inherits properties and methods from a parent class, which in turn inherits properties and methods from its parent class.\n",
    "\n",
    "4. Hierarchical Inheritance: In this type of inheritance, multiple classes inherit properties and methods from a single parent class.\n",
    "\n",
    "5. Hybrid Inheritance: This type of inheritance combines multiple types of inheritance, such as multiple and multilevel inheritance, to create a more complex class hierarchy.\n",
    "\n",
    "Please find below the examples of each type of Inheritance : \n",
    "'''\n",
    "class ParentClass :\n",
    "    def test_meth(self) :\n",
    "        return \"1. This is an example of Single Inheritance. \\n(Please check cell comment '# Single Inheritance' for the code)\"\n",
    "    \n",
    "class ChildClass(ParentClass):\n",
    "    pass\n",
    "\n",
    "obj_child_class = ChildClass()\n",
    "print(obj_child_class.test_meth())\n",
    "    \n",
    "\n",
    "# Multiple Inheritance -->\n",
    "class class1 :\n",
    "    def test_class1(self):\n",
    "        print()\n",
    "        return \"2. This is an example of Multiple Inheritance \\n(Please check cell comment '# Multiple Inheritance' for the code) \\n--> This is class 1\"\n",
    "\n",
    "class class2 :\n",
    "    def test_class2(self):\n",
    "        return \"--> This is class 2\"\n",
    "\n",
    "class class3(class1, class2):\n",
    "    pass\n",
    "\n",
    "obj_class3 = class3()\n",
    "print(obj_class3.test_class1())\n",
    "print(obj_class3.test_class2())\n",
    "\n",
    "\n",
    "# Multilevel Inheritance -->\n",
    "class class1 :\n",
    "    def test_class1(self):\n",
    "        print()\n",
    "        return \"3. This is an example of Multilevel Inheritance \\n(Please check cell comment '# Multilevel Inheritance' for the code) \\n--> This is a method from class 1\"\n",
    "    \n",
    "class class2(class1) :\n",
    "    def test_class2(self):\n",
    "        return \"--> This is a method from class 2\"\n",
    "\n",
    "class class3(class2) :\n",
    "    pass\n",
    "\n",
    "obj_class3 = class3()\n",
    "print(obj_class3.test_class1())\n",
    "print(obj_class3.test_class2())\n",
    "\n",
    "\n",
    "# Hierarchical Inheritance -->\n",
    "class class1 :\n",
    "    def test_class1(self):\n",
    "        print()\n",
    "        return \"4. This is an example of Hierarchical Inheritance \\n(Please check cell comment '# Hierarchical Inheritance' for the code)\"\n",
    "    \n",
    "class class2(class1) :\n",
    "    def test_class2(self):\n",
    "        return \"--> This is a method from class 2\"\n",
    "\n",
    "class class3(class1) :\n",
    "    def test_class3(self):\n",
    "        return \"--> This is a method from class 3\"\n",
    "\n",
    "obj_class2 = class2()\n",
    "print(obj_class2.test_class1())\n",
    "print(obj_class2.test_class2())\n",
    "\n",
    "obj_class3 = class3()\n",
    "print(obj_class3.test_class1())\n",
    "print(obj_class3.test_class3())\n",
    "\n",
    "\n",
    "# Hybrid Inheritance -->\n",
    "class class1 :\n",
    "    def test_class1(self):\n",
    "        print()\n",
    "        return \"5. This is an example of Hybrid Inheritance \\n(Please check cell comment '# Hybrid Inheritance' for the code)\"\n",
    "    \n",
    "class class2:\n",
    "    def test_class2(self):\n",
    "        return \"--> This is a method from class 2\"\n",
    "\n",
    "class class3(class1, class2) :\n",
    "    def test_class3(self):\n",
    "        return \"--> This is a method from class 3\"\n",
    "\n",
    "class class4(class3):\n",
    "    def test_class4(self):\n",
    "        return \"--> This is a method from class 4\"\n",
    "    \n",
    "obj_class4 = class4()\n",
    "print(obj_class4.test_class1())\n",
    "print(obj_class4.test_class2())\n",
    "print(obj_class4.test_class3())\n",
    "print(obj_class4.test_class4())"
   ]
  }
 ],
 "metadata": {
  "kernelspec": {
   "display_name": "Python 3",
   "language": "python",
   "name": "python3"
  },
  "language_info": {
   "codemirror_mode": {
    "name": "ipython",
    "version": 3
   },
   "file_extension": ".py",
   "mimetype": "text/x-python",
   "name": "python",
   "nbconvert_exporter": "python",
   "pygments_lexer": "ipython3",
   "version": "3.8.10"
  }
 },
 "nbformat": 4,
 "nbformat_minor": 0
}
