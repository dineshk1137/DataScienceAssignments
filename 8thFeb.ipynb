{
 "cells": [
  {
   "cell_type": "code",
   "execution_count": 1,
   "metadata": {
    "collapsed": false
   },
   "outputs": [],
   "source": [
    "# QUESTION 1️: \n",
    "# What is Abstraction in OOPs? Explain with an example."
   ]
  },
  {
   "cell_type": "code",
   "execution_count": 2,
   "metadata": {},
   "outputs": [],
   "source": [
    "# '''Abstraction in Object-Oriented Programming (OOP) refers to the ability to represent complex real-world objects or concepts as simplified models in software code. \n",
    "# Abstraction is achieved by focusing on the essential features of an object or concept and ignoring the irrelevant details.\n",
    "\n",
    "# In Python, abstraction can be achieved using abstract classes and interfaces. \n",
    "# An abstract class is a class that cannot be instantiated and is intended to be subclassed. \n",
    "# It can contain one or more abstract methods, which are methods that do not have an implementation in the abstract class and must be implemented by the subclass. \n",
    "# An interface is similar to an abstract class, but it only contains abstract methods and does not have any implementation.\n",
    "\n",
    "# Below is the example of abstraction in Python using an abstract class:\n",
    "\n",
    "# '''"
   ]
  },
  {
   "cell_type": "code",
   "execution_count": 3,
   "metadata": {},
   "outputs": [],
   "source": [
    "# Code Line goes here :\n",
    "\n",
    "from abc import ABC, abstractmethod\n",
    "\n",
    "class Vehicle(ABC):\n",
    "    @abstractmethod\n",
    "    def start(self):\n",
    "        pass\n",
    "    \n",
    "    @abstractmethod\n",
    "    def stop(self):\n",
    "        pass\n",
    "    \n",
    "    @abstractmethod\n",
    "    def accelerate(self):\n",
    "        pass\n",
    "\n",
    "class Car(Vehicle):\n",
    "    def start(self):\n",
    "        print(\"Starting car\")\n",
    "        \n",
    "    def stop(self):\n",
    "        print(\"Stopping car\")\n",
    "        \n",
    "    def accelerate(self):\n",
    "        print(\"Accelerating car\")\n",
    "\n",
    "class Boat(Vehicle):\n",
    "    def start(self):\n",
    "        print(\"Starting boat\")\n",
    "        \n",
    "    def stop(self):\n",
    "        print(\"Stopping boat\")\n",
    "        \n",
    "    def accelerate(self):\n",
    "        print(\"Accelerating boat\")"
   ]
  },
  {
   "cell_type": "code",
   "execution_count": 4,
   "metadata": {},
   "outputs": [],
   "source": [
    "# '''In this example, the Vehicle class is an abstract class that defines three abstract methods: start(), stop(), and accelerate(). \n",
    "# The Car and Boat classes are derived from the Vehicle class and implement their own versions of these methods.\n",
    "\n",
    "# Since the Vehicle class is an abstract class, it cannot be instantiated directly. \n",
    "# Instead, it serves as a template for creating new classes that inherit from it. \n",
    "# The Car and Boat classes inherit the abstract methods from the Vehicle class and provide their own implementation.\n",
    "\n",
    "# By using abstraction, we can create a simple and consistent interface for working with vehicles, regardless of their specific implementation details. \n",
    "# We can create new classes that inherit from the Vehicle class and provide their own implementation of the abstract methods, without having to worry about the details of how the methods are implemented in other classes.'''"
   ]
  },
  {
   "cell_type": "code",
   "execution_count": 5,
   "metadata": {
    "collapsed": false
   },
   "outputs": [],
   "source": [
    "# QUESTION 2️: \n",
    "# Differentiate between Abstraction and Encapsulation. Explain with an example."
   ]
  },
  {
   "cell_type": "code",
   "execution_count": 6,
   "metadata": {},
   "outputs": [],
   "source": [
    "# '''Abstraction and Encapsulation are two important concepts in Object-Oriented Programming (OOP) in Python. \n",
    "# They are often confused with each other, but they are different concepts that serve different purposes.\n",
    "\n",
    "# Abstraction refers to the process of hiding complex details and showing only essential information. \n",
    "# It is achieved by creating abstract classes or interfaces that define a set of methods or properties that must be implemented by any class that inherits from them. \n",
    "# Abstraction is about focusing on the essential features of an object or concept while ignoring the irrelevant details.\n",
    "\n",
    "# Encapsulation, on the other hand, refers to the process of wrapping data and methods into a single unit. \n",
    "# It is achieved by creating classes that have private data members and public methods. \n",
    "# Encapsulation is about protecting the data and methods of a class from external access and interference.\n",
    "\n",
    "# Below is the example that demonstrates both Abstraction and Encapsulation in Python:\n",
    "\n",
    "# '''"
   ]
  },
  {
   "cell_type": "code",
   "execution_count": 7,
   "metadata": {},
   "outputs": [
    {
     "name": "stdout",
     "output_type": "stream",
     "text": [
      "Total area : 185.04000000000002\n",
      "\n",
      "Total perimeter : 73.68\n"
     ]
    }
   ],
   "source": [
    "# Code line goes here :\n",
    "\n",
    "from abc import ABC, abstractmethod\n",
    "\n",
    "class Shape(ABC):\n",
    "    @abstractmethod\n",
    "    def area(self):\n",
    "        pass\n",
    "    \n",
    "    @abstractmethod\n",
    "    def perimeter(self):\n",
    "        pass\n",
    "\n",
    "class Rectangle(Shape):\n",
    "    \n",
    "    def __init__(self, length, width):\n",
    "        self._length = length\n",
    "        self._width = width\n",
    "    \n",
    "    def area(self):\n",
    "        return self._length * self._width\n",
    "    \n",
    "    def perimeter(self):\n",
    "        return 2 * (self._length + self._width)\n",
    "\n",
    "class Circle(Shape):\n",
    "    \n",
    "    def __init__(self, radius):\n",
    "        self._radius = radius\n",
    "    \n",
    "    def area(self):\n",
    "        return 3.14 * self._radius ** 2\n",
    "    \n",
    "    def perimeter(self):\n",
    "        return 2 * 3.14 * self._radius\n",
    "\n",
    "class Calculator:\n",
    "    \n",
    "    def __init__(self):\n",
    "        self._shapes = []\n",
    "    \n",
    "    def add_shape(self, shape):\n",
    "        \n",
    "        if isinstance(shape, Shape):\n",
    "            self._shapes.append(shape)\n",
    "    \n",
    "    def total_area(self):\n",
    "        return sum([shape.area() for shape in self._shapes])\n",
    "    \n",
    "    def total_perimeter(self):\n",
    "        return sum([shape.perimeter() for shape in self._shapes])\n",
    "\n",
    "rect = Rectangle(12, 6)\n",
    "circle = Circle(6)\n",
    "\n",
    "calc = Calculator()\n",
    "calc.add_shape(rect)\n",
    "calc.add_shape(circle)\n",
    "\n",
    "print(\"Total area :\", calc.total_area())\n",
    "print()\n",
    "print(\"Total perimeter :\", calc.total_perimeter())"
   ]
  },
  {
   "cell_type": "code",
   "execution_count": 8,
   "metadata": {},
   "outputs": [],
   "source": [
    "# '''In this example, the Shape class is an abstract class that defines two abstract methods: area() and perimeter(). \n",
    "# The Rectangle and Circle classes inherit from the Shape class and provide their own implementation of the area() and perimeter() methods.\n",
    "\n",
    "# The Calculator class encapsulates a list of shapes and provides methods to add shapes to the list and calculate the total area and perimeter of all shapes in the list. \n",
    "# The list of shapes is encapsulated within the Calculator class and cannot be accessed directly from outside the class.\n",
    "\n",
    "# By using Abstraction, we have created an abstract class Shape that defines two methods area() and perimeter() that must be implemented by any derived class. \n",
    "# This provides a consistent interface for working with different types of shapes. \n",
    "# By using Encapsulation, we have protected the list of shapes in the Calculator class from external access and interference. \n",
    "# The list can only be accessed through the methods provided by the Calculator class.'''"
   ]
  },
  {
   "cell_type": "code",
   "execution_count": 9,
   "metadata": {},
   "outputs": [],
   "source": [
    "# QUESTION 3️: \n",
    "# What is abc module in python? Why is it used?"
   ]
  },
  {
   "cell_type": "code",
   "execution_count": 10,
   "metadata": {},
   "outputs": [],
   "source": [
    "# '''The abc module in Python stands for Abstract Base Classes. It provides a way to define abstract classes in Python, which are classes that cannot be instantiated directly, but can only be subclassed. Abstract classes define methods that subclasses must implement, which ensures that the subclasses have a consistent interface.\n",
    "\n",
    "# The abc module provides the ABC class that can be used as a base class for defining abstract classes. Abstract methods are defined using the @abstractmethod decorator, which indicates that the method must be implemented by any subclass.\n",
    "\n",
    "# Below is the example of how the abc module can be used:\n",
    "\n",
    "# '''"
   ]
  },
  {
   "cell_type": "code",
   "execution_count": 11,
   "metadata": {},
   "outputs": [
    {
     "name": "stdout",
     "output_type": "stream",
     "text": [
      "Area of Rectangle : 50\n",
      "Perimeter of Rectangle : 30\n",
      "\n",
      "Area of Circle : 113.04\n",
      "Perimeter of Circle : 37.68\n"
     ]
    }
   ],
   "source": [
    "# Code line goes here :\n",
    "\n",
    "from abc import ABC, abstractmethod\n",
    "\n",
    "class Shape(ABC):\n",
    "    @abstractmethod\n",
    "    def area(self):\n",
    "        pass\n",
    "    \n",
    "    @abstractmethod\n",
    "    def perimeter(self):\n",
    "        pass\n",
    "\n",
    "class Rectangle(Shape):\n",
    "    \n",
    "    def __init__(self, length, width):\n",
    "        self._length = length\n",
    "        self._width = width\n",
    "    \n",
    "    def area(self):\n",
    "        return self._length * self._width\n",
    "    \n",
    "    def perimeter(self):\n",
    "        return 2 * (self._length + self._width)\n",
    "\n",
    "class Circle(Shape):\n",
    "    \n",
    "    def __init__(self, radius):\n",
    "        self._radius = radius\n",
    "    \n",
    "    def area(self):\n",
    "        return 3.14 * self._radius ** 2\n",
    "    \n",
    "    def perimeter(self):\n",
    "        return 2 * 3.14 * self._radius\n",
    "\n",
    "rect = Rectangle(5, 10)\n",
    "circle = Circle(6)\n",
    "\n",
    "print(\"Area of Rectangle :\", rect.area())\n",
    "print(\"Perimeter of Rectangle :\", rect.perimeter())\n",
    "print()\n",
    "print(\"Area of Circle :\", circle.area())\n",
    "print(\"Perimeter of Circle :\", circle.perimeter())"
   ]
  },
  {
   "cell_type": "code",
   "execution_count": 12,
   "metadata": {},
   "outputs": [],
   "source": [
    "# '''In this example, the Shape class is defined as an abstract class using the ABC base class. \n",
    "# It defines two abstract methods: area() and perimeter(). \n",
    "# The Rectangle and Circle classes inherit from the Shape class and provide their own implementation of the area() and perimeter() methods.\n",
    "\n",
    "# By using the abc module, we can define a consistent interface for working with different types of shapes. \n",
    "# Any class that inherits from the Shape class must implement the area() and perimeter() methods, ensuring that the subclasses have a consistent interface.'''\n"
   ]
  },
  {
   "cell_type": "code",
   "execution_count": 13,
   "metadata": {},
   "outputs": [],
   "source": [
    "# QUESTION 4️: \n",
    "# How can we achieve data abstraction?"
   ]
  },
  {
   "cell_type": "code",
   "execution_count": 14,
   "metadata": {},
   "outputs": [],
   "source": [
    "# '''In Python, data abstraction can be achieved through various methods such as:\n",
    "\n",
    "# 1. Abstract Class\n",
    "# 2. Encapsulation\n",
    "# 3. Interfaces\n",
    "\n",
    "# 1. Abstract Class : Abstract class can be defined using the ABC base class and the abstractmethod decorator. \n",
    "# An abstract class defines a set of abstract methods that must be implemented by any concrete class that inherits from it. \n",
    "# Abstract classes provide a high-level interface to the data, hiding the implementation details from the user.\n",
    "\n",
    "# 2. Encapsulation: Encapsulation is a technique that allows data to be hidden from the user by encapsulating it within objects. \n",
    "# In Python, this can be achieved by defining classes that encapsulate data and provide methods for accessing and manipulating that data. \n",
    "# By encapsulating the data within the object, the implementation details are hidden from the user, providing a high-level view of the data. \n",
    "\n",
    "# 3. Interfaces: An interface is a set of methods that define the behavior of an object without specifying the implementation details. \n",
    "# In Python, interfaces can be defined using abstract classes or simply by defining a set of methods that must be implemented by any object that implements the interface. \n",
    "# By defining interfaces, we can provide a high-level view of the data, hiding the implementation details from the user.\n",
    "\n",
    "# '''"
   ]
  },
  {
   "cell_type": "code",
   "execution_count": 15,
   "metadata": {},
   "outputs": [],
   "source": [
    "# Example of Abstract Class :\n",
    " \n",
    "from abc import ABC, abstractmethod\n",
    "\n",
    "class Vehicle(ABC):\n",
    "    \n",
    "    @abstractmethod\n",
    "    def start(self):\n",
    "        pass\n",
    "    \n",
    "    @abstractmethod\n",
    "    def stop(self):\n",
    "        pass\n",
    "\n",
    "class Car(Vehicle):\n",
    "    \n",
    "    def start(self):\n",
    "        print(\"Starting Car\")\n",
    "    \n",
    "    def stop(self):\n",
    "        print(\"Stopping Car\")\n",
    "        \n",
    "# '''In this example of abstraction, Vehicle is an abstract class that defines the start and stop methods as abstract methods. \n",
    "# The Car class inherits from the Vehicle class and provides the implementation of the start and stop methods. \n",
    "# The Vehicle class provides a high-level view of the data by defining the methods that any vehicle should have, hiding the implementation details.\n"
   ]
  },
  {
   "cell_type": "code",
   "execution_count": 16,
   "metadata": {},
   "outputs": [
    {
     "name": "stdout",
     "output_type": "stream",
     "text": [
      "Employee name : John\n",
      "Employee salary : 5000\n",
      "\n"
     ]
    }
   ],
   "source": [
    "# Example of Encapsulation :\n",
    "\n",
    "class Employee:\n",
    "    \n",
    "    def __init__(self, name, salary):\n",
    "        self._name = name\n",
    "        self._salary = salary\n",
    "    \n",
    "    def get_name(self):\n",
    "        return self._name\n",
    "    \n",
    "    def get_salary(self):\n",
    "        return self._salary\n",
    "\n",
    "employee = Employee(\"John\", 5000)\n",
    "\n",
    "print(\"Employee name :\", employee.get_name())\n",
    "print(\"Employee salary :\", employee.get_salary())\n",
    "print()\n",
    "\n",
    "# '''In this example of encapsulation, Employee is a class that encapsulates the name and salary data and provides methods to access them. \n",
    "# The user can access the data through the get_name and get_salary methods, providing a high-level view of the data.\n",
    "\n",
    "# Overall, data abstraction can be achieved in Python by using techniques such as abstract classes, encapsulation, and interfaces, which provide a high-level view of the data, hiding the implementation details from the user.'''"
   ]
  },
  {
   "cell_type": "code",
   "execution_count": 17,
   "metadata": {},
   "outputs": [],
   "source": [
    "# QUESTION 5️: \n",
    "# Can we create an instance of an abstract class? Explain your answer."
   ]
  },
  {
   "cell_type": "code",
   "execution_count": 18,
   "metadata": {},
   "outputs": [],
   "source": [
    "# '''No, we cannot create an instance of an abstract class in Python. \n",
    "# An abstract class is a class that contains one or more abstract methods, which are declared but not implemented. \n",
    "# An abstract class is meant to be subclassed, and its abstract methods must be implemented by the subclasses.\n",
    "\n",
    "# Attempting to create an instance of an abstract class in Python will result in a TypeError. Below is the example :"
   ]
  },
  {
   "cell_type": "code",
   "execution_count": 19,
   "metadata": {},
   "outputs": [],
   "source": [
    "# Code line goes here :\n",
    "\n",
    "from abc import ABC, abstractmethod\n",
    "\n",
    "class Shape(ABC):\n",
    "    \n",
    "    @abstractmethod\n",
    "    def area(self):\n",
    "        pass\n",
    "\n",
    "class Rectangle(Shape):\n",
    "    \n",
    "    def __init__(self, length, width):\n",
    "        self.length = length\n",
    "        self.width = width\n",
    "    \n",
    "    def area(self):\n",
    "        return self.length * self.width\n",
    "\n",
    "# Attempting to create an instance of Shape\n",
    "# s = Shape()\n",
    "\n",
    "Error_5 = '''---------------------------------------------------------------------------\n",
    "TypeError                                 Traceback (most recent call last)\n",
    "Cell In[142], line 21\n",
    "     18         return self.length * self.width\n",
    "     20 # Attempting to create an instance of Shape\n",
    "---> 21 s = Shape()\n",
    "\n",
    "TypeError: Can't instantiate abstract class Shape with abstract method area \n",
    "\n",
    "'''"
   ]
  },
  {
   "cell_type": "code",
   "execution_count": 20,
   "metadata": {},
   "outputs": [
    {
     "name": "stdout",
     "output_type": "stream",
     "text": [
      "---------------------------------------------------------------------------\n",
      "TypeError                                 Traceback (most recent call last)\n",
      "Cell In[142], line 21\n",
      "     18         return self.length * self.width\n",
      "     20 # Attempting to create an instance of Shape\n",
      "---> 21 s = Shape()\n",
      "\n",
      "TypeError: Can't instantiate abstract class Shape with abstract method area \n",
      "\n",
      "\n"
     ]
    }
   ],
   "source": [
    "# '''In this example, Shape is an abstract class that contains the abstract method area. \n",
    "# The Rectangle class inherits from Shape and provides the implementation of the area method. \n",
    "# Attempting to create an instance of Shape results in a TypeError, since it is an abstract class and cannot be instantiated directly.\n",
    "\n",
    "# In summary, we cannot create an instance of an abstract class in Python, as it is meant to be subclassed and its abstract methods must be implemented by the subclasses. '''\n",
    "\n",
    "print(Error_5)"
   ]
  }
 ],
 "metadata": {
  "kernelspec": {
   "display_name": "Python 3",
   "language": "python",
   "name": "python3"
  },
  "language_info": {
   "codemirror_mode": {
    "name": "ipython",
    "version": 3
   },
   "file_extension": ".py",
   "mimetype": "text/x-python",
   "name": "python",
   "nbconvert_exporter": "python",
   "pygments_lexer": "ipython3",
   "version": "3.8.10"
  }
 },
 "nbformat": 4,
 "nbformat_minor": 0
}
