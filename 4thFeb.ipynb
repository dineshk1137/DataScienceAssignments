{
 "cells": [
  {
   "cell_type": "code",
   "execution_count": 7,
   "metadata": {
    "ExecuteTime": {
     "end_time": "2023-04-24T03:24:59.713021Z",
     "start_time": "2023-04-24T03:24:59.603649Z"
    },
    "collapsed": true
   },
   "outputs": [
    {
     "name": "stdout",
     "output_type": "stream",
     "text": [
      "The list of players are sorted in ascending order based upon their runs scored : \n",
      "[('Virat Kohli', 24936), ('Jack Kallis', 25534), ('Ricky Ponting', 27483), ('Sachin Tendulkar', 34357)]\n"
     ]
    }
   ],
   "source": [
    "'''Ques 1. Create a python program to sort the given list of tuples based on integer value using a lambda function.\n",
    "[('Sachin Tendulkar', 34357), ('Ricky Ponting', 27483), ('Jack Kallis', 25534), ('Virat Kohli', 24936)]\n",
    "\n",
    "Ans. Below is the python program to sort the given list of tuples based on integer value using a lambda function : '''\n",
    "\n",
    "# Code line goes here :\n",
    "\n",
    "list_of_players = [('Sachin Tendulkar', 34357), ('Ricky Ponting', 27483), ('Jack Kallis', 25534), ('Virat Kohli', 24936)]\n",
    "\n",
    "sorted_players = sorted(list_of_players, key = lambda x : x[1], reverse = False)\n",
    "\n",
    "print(\"The list of players are sorted in ascending order based upon their runs scored : \")\n",
    "print(sorted_players)"
   ]
  },
  {
   "cell_type": "code",
   "execution_count": 8,
   "metadata": {
    "ExecuteTime": {
     "end_time": "2023-04-24T03:24:59.884897Z",
     "start_time": "2023-04-24T03:24:59.634899Z"
    },
    "collapsed": false
   },
   "outputs": [
    {
     "name": "stdout",
     "output_type": "stream",
     "text": [
      "[1, 4, 9, 16, 25, 36, 49, 64, 81, 100]\n"
     ]
    }
   ],
   "source": [
    "'''Ques 2. Write a Python Program to find the squares of all the numbers in the given list of integers using lambda and map functions.\n",
    "[1, 2, 3, 4, 5, 6, 7, 8, 9, 10]\n",
    "\n",
    "Ans. Below is the Python Program to find the squares of all the numbers in the given list of integers using lambda and map functions : '''\n",
    "\n",
    "# Code line goes here :\n",
    "\n",
    "list_of_integers = [1, 2, 3, 4, 5, 6, 7, 8, 9, 10]\n",
    "\n",
    "print(list(map(lambda sq : sq**2, list_of_integers)))"
   ]
  },
  {
   "cell_type": "code",
   "execution_count": 9,
   "metadata": {
    "ExecuteTime": {
     "end_time": "2023-04-24T03:24:59.884897Z",
     "start_time": "2023-04-24T03:24:59.681778Z"
    },
    "collapsed": false
   },
   "outputs": [
    {
     "name": "stdout",
     "output_type": "stream",
     "text": [
      "Given String : [1, 2, 3, 4, 5, 6, 7, 8, 9, 10]\n",
      "\n",
      "Output as Expected : ('1', '2', '3', '4', '5', '6', '7', '8', '9', '10')\n"
     ]
    }
   ],
   "source": [
    "'''Ques 3. Write a python program to convert the given list of integers into a tuple of strings. Use map and lambda functions\n",
    "\n",
    "Given String: [1, 2, 3, 4, 5, 6, 7, 8, 9, 10]\n",
    "Expected output: ('1', '2', '3', '4', '5', '6', '7', '8', '9', '10')\n",
    "\n",
    "Ans. Below is the python program to convert the given list of integers into a tuple of strings using map and lambda functions : '''\n",
    "\n",
    "given_string = [1, 2, 3, 4, 5, 6, 7, 8, 9, 10]\n",
    "\n",
    "print(\"Given String :\", given_string)\n",
    "print()\n",
    "print(\"Output as Expected :\", tuple(map(lambda x : str(x), given_string)))\n"
   ]
  },
  {
   "cell_type": "code",
   "execution_count": 10,
   "metadata": {
    "ExecuteTime": {
     "end_time": "2023-04-24T03:24:59.931790Z",
     "start_time": "2023-04-24T03:24:59.697398Z"
    },
    "collapsed": false
   },
   "outputs": [
    {
     "name": "stdout",
     "output_type": "stream",
     "text": [
      "Please find below the product of numbers from 1 to 25 : \n",
      "15511210043330985984000000\n"
     ]
    }
   ],
   "source": [
    "'''Ques 4. Write a python program using reduce function to compute the product of a list containing numbers from 1 to 25.\n",
    "\n",
    "Ans. Below is the python program to compute the product of a list containing numbers from 1 to 25 using reduce function : '''\n",
    "\n",
    "# Code line goes here :\n",
    "\n",
    "from functools import reduce\n",
    "\n",
    "print(\"Please find below the product of numbers from 1 to 25 : \")\n",
    "print(reduce(lambda x, y : x * y, list(range(1,26))))\n"
   ]
  },
  {
   "cell_type": "code",
   "execution_count": 11,
   "metadata": {
    "ExecuteTime": {
     "end_time": "2023-04-24T03:24:59.931790Z",
     "start_time": "2023-04-24T03:24:59.744279Z"
    },
    "collapsed": false
   },
   "outputs": [
    {
     "name": "stdout",
     "output_type": "stream",
     "text": [
      "Given List : [2, 3, 6, 9, 27, 60, 90, 120, 55, 46]\n",
      "\n",
      "Numbers that are divisible by both 2 and 3 are below :\n",
      "[6, 60, 90, 120]\n"
     ]
    }
   ],
   "source": [
    "'''Ques 5. Write a python program to filter the numbers in a given list that are divisible by 2 and 3 using the filter function.\n",
    "\n",
    "[2, 3, 6, 9, 27, 60, 90, 120, 55, 46]\n",
    "\n",
    "Ans. Below is the python program to filter the numbers in a given list that are divisible by 2 and 3 using the filter function : '''\n",
    "\n",
    "# Code line goes here :\n",
    "\n",
    "given_list = [2, 3, 6, 9, 27, 60, 90, 120, 55, 46]\n",
    "\n",
    "print(\"Given List :\", given_list)\n",
    "print(\"\"\"\n",
    "Numbers that are divisible by both 2 and 3 are below :\"\"\")\n",
    "print(list(filter(lambda x : x % 2 == 0 and x % 3 == 0, given_list)))\n",
    "\n"
   ]
  },
  {
   "cell_type": "code",
   "execution_count": 12,
   "metadata": {
    "ExecuteTime": {
     "end_time": "2023-04-24T03:24:59.931790Z",
     "start_time": "2023-04-24T03:24:59.759897Z"
    },
    "collapsed": false
   },
   "outputs": [
    {
     "name": "stdout",
     "output_type": "stream",
     "text": [
      "Given String : ['python', 'php', 'aba', 'radar', 'level']\n",
      "\n",
      "Please find below the palindromes in the given list of string :\n",
      "['php', 'aba', 'radar', 'level']\n"
     ]
    }
   ],
   "source": [
    "'''Ques 6. Write a python program to find palindromes in the given list of strings using lambda and filter function.\n",
    "\n",
    "['python', 'php', 'aba', 'radar', 'level']\n",
    "\n",
    "Ans. Below is the python program to find palindromes in the given list of strings using lambda and filter function : '''\n",
    "\n",
    "# Code line goes here :\n",
    "\n",
    "string = ['python', 'php', 'aba', 'radar', 'level']\n",
    "\n",
    "print(\"Given String :\", string)\n",
    "print(\"\"\"\n",
    "Please find below the palindromes in the given list of string :\"\"\")\n",
    "\n",
    "print(list(filter(lambda x : x == x[::-1], string)))\n"
   ]
  },
  {
   "cell_type": "code",
   "execution_count": null,
   "metadata": {
    "ExecuteTime": {
     "end_time": "2023-04-24T03:24:59.931790Z",
     "start_time": "2023-04-24T03:24:59.806777Z"
    },
    "collapsed": false
   },
   "outputs": [],
   "source": []
  }
 ],
 "metadata": {
  "kernelspec": {
   "display_name": "Python 3",
   "language": "python",
   "name": "python3"
  },
  "language_info": {
   "codemirror_mode": {
    "name": "ipython",
    "version": 3
   },
   "file_extension": ".py",
   "mimetype": "text/x-python",
   "name": "python",
   "nbconvert_exporter": "python",
   "pygments_lexer": "ipython3",
   "version": "3.8.10"
  }
 },
 "nbformat": 4,
 "nbformat_minor": 0
}
